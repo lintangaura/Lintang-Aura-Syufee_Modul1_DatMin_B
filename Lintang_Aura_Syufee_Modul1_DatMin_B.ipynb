{
  "cells": [
    {
      "cell_type": "code",
      "execution_count": null,
      "metadata": {
        "colab": {
          "background_save": true
        },
        "id": "Od7an-GjAY8N"
      },
      "outputs": [],
      "source": [
        "import numpy as np"
      ]
    },
    {
      "cell_type": "markdown",
      "metadata": {
        "id": "EieN6fnQAiC7"
      },
      "source": [
        "Kode 1"
      ]
    },
    {
      "cell_type": "markdown",
      "metadata": {
        "id": "g8JSq3FZBIgA"
      },
      "source": [
        "Buatlah array 2D berikut menggunakan numpy"
      ]
    },
    {
      "cell_type": "code",
      "execution_count": null,
      "metadata": {
        "colab": {
          "background_save": true,
          "base_uri": "https://localhost:8080/"
        },
        "id": "N2hPWCc3AxKD",
        "outputId": "8265531a-72b2-4fe8-f108-60881b071fe0"
      },
      "outputs": [
        {
          "name": "stdout",
          "output_type": "stream",
          "text": [
            "Hasil array 2D adalah:\n",
            "[[4 4 5]\n",
            " [7 6 4]\n",
            " [9 7 4]\n",
            " [6 3 7]]\n"
          ]
        }
      ],
      "source": [
        "arry = np.array([[4,4,5],[7,6,4],[9,7,4],[6,3,7]])\n",
        "print('Hasil array 2D adalah:')\n",
        "print(arry)"
      ]
    },
    {
      "cell_type": "markdown",
      "metadata": {
        "id": "a3I-SVwHBFNq"
      },
      "source": [
        "Buatlah array 3D berikut menggunakan numpy"
      ]
    },
    {
      "cell_type": "code",
      "execution_count": null,
      "metadata": {
        "colab": {
          "base_uri": "https://localhost:8080/"
        },
        "id": "o2wVJwPSBZLs",
        "outputId": "0e2c8e50-96a3-44a2-8f21-1c66346bd909"
      },
      "outputs": [
        {
          "name": "stdout",
          "output_type": "stream",
          "text": [
            "Hasil array 3D adalah:\n",
            "[[[ 7  8  5]\n",
            "  [ 4  7  7]\n",
            "  [ 7  1  9]\n",
            "  [ 5  4 10]\n",
            "  [ 2  1  2]\n",
            "  [ 9  8  5]\n",
            "  [ 3  7  3]\n",
            "  [ 4  9  9]\n",
            "  [ 2  9  3]\n",
            "  [ 2  4  8]\n",
            "  [ 1  6  6]\n",
            "  [ 8  1  3]]]\n"
          ]
        }
      ],
      "source": [
        "arry = np.array([[[7, 8, 5], [4, 7, 7], [7, 1, 9], [5,4,10], [2, 1, 2], [9, 8, 5], [3, 7, 3], [4,9,9], [2, 9, 3], [2, 4, 8], [1, 6, 6], [8,1,3]]])\n",
        "\n",
        "print('Hasil array 3D adalah:')\n",
        "print(arry)"
      ]
    },
    {
      "cell_type": "markdown",
      "metadata": {
        "id": "ghUDmZR3BdRC"
      },
      "source": [
        "Kode 2"
      ]
    },
    {
      "cell_type": "markdown",
      "metadata": {
        "id": "wovrwrSzBfdE"
      },
      "source": [
        "Tambahkan angka 1 pada setipa bilangan di baris ganjil array berikut, kemudian tambahkan angka 2 pada setiap bilangan di kolom genap array berikut"
      ]
    },
    {
      "cell_type": "markdown",
      "metadata": {
        "id": "Cj6Tm8CJEt0Z"
      },
      "source": [
        "Penambahan angka 1 baris ganjil"
      ]
    },
    {
      "cell_type": "code",
      "execution_count": null,
      "metadata": {
        "colab": {
          "background_save": true
        },
        "id": "ageezKWYBrUt",
        "outputId": "d237c358-c62a-4193-8483-b91a7877c5ed"
      },
      "outputs": [
        {
          "name": "stdout",
          "output_type": "stream",
          "text": [
            "Matrix nilai sebelum diubah: \n",
            "[[ 1  8  8  2]\n",
            " [ 8  2  1  2]\n",
            " [10  1  4  7]\n",
            " [ 1  4  7  8]\n",
            " [ 8  2  3  4]]\n",
            "Matrix nilai setelah ditambah 1 baris ganjil :\n",
            "[[ 1  8  8  2]\n",
            " [ 9  3  2  3]\n",
            " [10  1  4  7]\n",
            " [ 2  5  8  9]\n",
            " [ 8  2  3  4]]\n"
          ]
        }
      ],
      "source": [
        "arry = np.array ([[1,8,8,2], [8,2,1,2], [10,1,4,7], [1,4,7,8], [8,2,3,4]])\n",
        "\n",
        "print (\"Matrix nilai sebelum diubah: \")\n",
        "print (arry)\n",
        "\n",
        "baris_index = 1,3\n",
        "arry[baris_index,:] +=1\n",
        "\n",
        "print('Matrix nilai setelah ditambah 1 baris ganjil :')\n",
        "print(arry)"
      ]
    },
    {
      "cell_type": "markdown",
      "metadata": {
        "id": "O314te-FEycn"
      },
      "source": [
        "Penambahan angka 2 baris genap"
      ]
    },
    {
      "cell_type": "code",
      "execution_count": null,
      "metadata": {
        "id": "RdtBFPMcE1Rg"
      },
      "outputs": [],
      "source": [
        "arry = np.array ([[1,8,8,2], [8,2,1,2], [10,1,4,7], [1,4,7,8], [8,2,3,4]])\n",
        "print (\"Matrix nilai sebelum diubah: \")\n",
        "print (arry)\n",
        "\n",
        "kolom_index = 0,2\n",
        "arry[:,kolom_index] +=2\n",
        "\n",
        "print('Matrix nilai setelah ditambah 2 baris genap :')\n",
        "print(arry)"
      ]
    },
    {
      "cell_type": "markdown",
      "metadata": {
        "id": "s24MhFlTBuSA"
      },
      "source": [
        "Baliklah sumbu z array 3D berikut"
      ]
    },
    {
      "cell_type": "code",
      "execution_count": null,
      "metadata": {
        "id": "huZwVzjHBzw6"
      },
      "outputs": [],
      "source": [
        "#Matrix 3D Normal\n",
        "arry = np.array([[[7, 8, 5], [4, 7, 7], [7, 1, 9], [5, 4, 10]], [[2, 1, 2], [9, 8, 5], [3, 7, 3], [4, 9, 9]], [[2, 9, 3], [2, 4, 8], [1, 6, 6], [8,1,3]]])\n",
        "\n",
        "print('Matrix awal sebelum diubah : ')\n",
        "print(arry)\n",
        "\n",
        "#Membalikkan sumbu z array 3D\n",
        "balik = np.flipud(arry)\n",
        "\n",
        "print('Matrix yang telah di balik :')\n",
        "print(balik)"
      ]
    },
    {
      "cell_type": "markdown",
      "metadata": {
        "id": "9k-rI4mJCDwt"
      },
      "source": [
        "Ubahlah array pada soal E menjadi array 2D berukuran 6x6 menggunakan perintah reshape"
      ]
    },
    {
      "cell_type": "code",
      "execution_count": null,
      "metadata": {
        "id": "1aB8uAVhCBTN"
      },
      "outputs": [],
      "source": [
        "#Matrix normal\n",
        "arry = np.array([[[7, 8, 5], [4, 7, 7], [7, 1, 9], [5, 4, 10]], [[2, 1, 2], [9, 8, 5], [3, 7, 3], [4, 9, 9]], [[2, 9, 3], [2, 4, 8], [1, 6, 6], [8,1,3]]])\n",
        "\n",
        "print('Matrix awal sebelum diubah : ')\n",
        "print(arry)\n",
        "\n",
        "#Membalikkan sumbu z array 3D\n",
        "balik = np.flipud(arry)\n",
        "print('Matrix yang telah di balik :')\n",
        "print(balik)\n",
        "\n",
        "#Diubah menjadi array 2D 6x6\n",
        "arry = balik.reshape(6,6)\n",
        "\n",
        "print('Matrix yang diubah menjadi 6x6')\n",
        "print(arry)"
      ]
    },
    {
      "cell_type": "markdown",
      "metadata": {
        "id": "ZvyCLO5RCS26"
      },
      "source": [
        "Kode 3"
      ]
    },
    {
      "cell_type": "markdown",
      "metadata": {
        "id": "ah2-dE7JCUqG"
      },
      "source": [
        "Ubahlah matriks kiri menjadi matriks sebelah kanan"
      ]
    },
    {
      "cell_type": "code",
      "execution_count": null,
      "metadata": {
        "id": "mpzXRlD2CavP"
      },
      "outputs": [],
      "source": [
        "array= np.array([[[5, 10, 10, 7], [7,8, 4,10], [9, 10, 2,5], [1, 8, 9,3], [6, 10, 5,2], [4, 6, 9,4]], [[9,3,1,8], [5, 2, 6, 10], [9,4, 4,6], [10, 7, 5,10], [4, 10, 7,8], [2, 5, 9,10]]])\n",
        "\n",
        "print('Matrix awal sebelum diubah : ')\n",
        "print(array)\n",
        "\n",
        "#Ubah matrik kiri ke kanan\n",
        "ubah_matrix = np.flipud(array)\n",
        "\n",
        "print('Matrix yang telah di balik : ')\n",
        "print(ubah_matrix)\n"
      ]
    }
  ],
  "metadata": {
    "colab": {
      "provenance": []
    },
    "kernelspec": {
      "display_name": "Python 3",
      "name": "python3"
    },
    "language_info": {
      "name": "python"
    }
  },
  "nbformat": 4,
  "nbformat_minor": 0
}